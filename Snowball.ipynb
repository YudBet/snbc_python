{
 "cells": [
  {
   "cell_type": "code",
   "execution_count": 1,
   "metadata": {
    "collapsed": true
   },
   "outputs": [],
   "source": [
    "import numpy as np\n",
    "\n",
    "\"\"\" Snowball Sampling \n",
    "    INPUT:\n",
    "        graph:        adj. mat. of a graph\n",
    "        tr_fraction:  fraction of training nodes, default is 0.1\n",
    "    OUTOUT:\n",
    "        Train:        indices of training nodes\n",
    "\"\"\"\n",
    "def snowball_sampling(graph, tr_fraction=0.1):\n",
    "    TrFraction = tr_fraction\n",
    "\n",
    "    graph = graph + graph.T\n",
    "    graph[graph > 0] = 1\n",
    "\n",
    "    sparseGraph = graph.nonzero()\n",
    "\n",
    "    TrFraction = 1 - TrFraction\n",
    "    \n",
    "    Nodes = np.unique(sparseGraph)\n",
    "    n_Test = int(np.floor(len(Nodes)*TrFraction))\n",
    "\n",
    "    Test = np.zeros(n_Test)\n",
    "    Train = np.zeros(len(Nodes) - n_Test)\n",
    "\n",
    "    n_seed = int(np.ceil(n_Test*0.02))\n",
    "    Seed = np.random.choice(Nodes, n_seed, replace=False)\n",
    "    Selected = Seed\n",
    "\n",
    "    while len(Selected) < n_Test:\n",
    "        tmp_Neighbor = Nodes[np.squeeze(np.asarray(np.sum(graph[Seed], axis=0).ravel())).nonzero()[0]]\n",
    "        Neighbor = []\n",
    "        for n in tmp_Neighbor:\n",
    "            if n in Selected:\n",
    "                continue\n",
    "            Neighbor.append(n)\n",
    "\n",
    "        tmp_Selected = []\n",
    "        if len(Neighbor) > 0:\n",
    "            tmp_Selected = np.random.choice(np.array(Neighbor), int(len(Neighbor)*TrFraction/2), replace=False)\n",
    "\n",
    "        if len(tmp_Selected) == 0:\n",
    "            UnSelected = np.setdiff1d(np.array(range(graph.shape[0])), Selected, assume_unique=True)\n",
    "            Seed = np.random.choice(UnSelected, np.min([n_seed, len(UnSelected)]), replace=False)\n",
    "            Selected = np.unique(np.append(Selected, Seed))\n",
    "        else:\n",
    "            Selected = np.unique(np.append(Selected, tmp_Selected))\n",
    "            Seed = tmp_Selected\n",
    "    Test = Selected[0 : n_Test]\n",
    "    Train = np.setdiff1d(np.array(range(graph.shape[0])), Test, assume_unique=True)\n",
    "    return Train"
   ]
  }
 ],
 "metadata": {
  "anaconda-cloud": {},
  "kernelspec": {
   "display_name": "Python [default]",
   "language": "python",
   "name": "python2"
  },
  "language_info": {
   "codemirror_mode": {
    "name": "ipython",
    "version": 2
   },
   "file_extension": ".py",
   "mimetype": "text/x-python",
   "name": "python",
   "nbconvert_exporter": "python",
   "pygments_lexer": "ipython2",
   "version": "2.7.12"
  }
 },
 "nbformat": 4,
 "nbformat_minor": 1
}
