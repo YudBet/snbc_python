{
 "cells": [
  {
   "cell_type": "markdown",
   "metadata": {},
   "source": [
    "##### Bianry train"
   ]
  },
  {
   "cell_type": "code",
   "execution_count": 1,
   "metadata": {
    "collapsed": false
   },
   "outputs": [],
   "source": [
    "import numpy as np\n",
    "from numpy import linalg as LA\n",
    "from scipy.sparse import spdiags\n",
    "from scipy.sparse import csr_matrix\n",
    "\n",
    "def binaryTrain(X, Y, options):\n",
    "    lamda = options['lamda']\n",
    "    k = options['k']\n",
    "    maxIter = options['maxIter']\n",
    "    \n",
    "    _pow = 8\n",
    "    N = X.shape[0]\n",
    "    \n",
    "    trainIdx = Y.nonzero()[0]\n",
    "    Ntr = len(trainIdx)\n",
    "    \n",
    "    wpos = len((Y == -1).nonzero()[0])/float(len((Y == 1).nonzero()[0]))\n",
    "    wneg = 1\n",
    "    \n",
    "    weight = np.zeros(len(Y))\n",
    "    weight[Y == 1] = wpos\n",
    "    weight[Y == -1] = wneg\n",
    "    \n",
    "    if len(Y) != N:\n",
    "        print 'Error: Number of elements in X and Y must same'\n",
    "        return\n",
    "    \n",
    "    degree = np.squeeze(np.asarray(np.sum(X, 1)))\n",
    "    logd = np.log2(2 + degree)\n",
    "    \n",
    "    invD = spdiags(1./degree, 0, N, N).tocsr()\n",
    "    \n",
    "    alpha = 1 - 1./np.log2(2 + degree)\n",
    "    ALPHA = spdiags(alpha, 0, N, N).tocsr()\n",
    "    COMPALPHA = spdiags(1 - alpha, 0, N, N).tocsr()\n",
    "    \n",
    "    M = COMPALPHA * invD * X\n",
    "    \n",
    "    w = np.random.rand(1, X.shape[1])\n",
    "    w = np.matrix(w/np.sqrt(lamda)*LA.norm(w))\n",
    "    \n",
    "    Tolerance=1e-6\n",
    "\n",
    "    for t in range(maxIter):\n",
    "        if (t%100 == 0):\n",
    "            print 'iteration # ', str(t), '/', str(maxIter)\n",
    "        w_old = w\n",
    "        \n",
    "        pred = X*w.H\n",
    "        propogatedPred = np.zeros(shape=pred.shape)\n",
    "        \n",
    "        for i in range(_pow):\n",
    "            propogatedPred = M*propogatedPred + pred\n",
    "        propogatedPred = M*propogatedPred + pred\n",
    "        propogatedPred = np.squeeze(np.asarray(np.multiply(alpha, propogatedPred.flatten())))\n",
    "        \n",
    "        b = np.mean(Y[trainIdx] - propogatedPred[trainIdx])\n",
    "        \n",
    "        idx = np.random.choice(Ntr, k, replace=False)\n",
    "        randomSubset = trainIdx[idx]\n",
    "        \n",
    "        idx1 = (np.multiply(np.sign(propogatedPred[randomSubset] + b), Y[randomSubset]) < 1).nonzero()[0]\n",
    "        \n",
    "        misClass = randomSubset[idx1]\n",
    "        grad = weight[misClass]*Y[misClass]*alpha[misClass]\n",
    "        part = np.matrix(grad*M[misClass])\n",
    "        At = csr_matrix(part.shape)\n",
    "        for i in range(_pow):\n",
    "            At = At*M + part\n",
    "        grad = At*X + np.matrix(grad)*X[misClass]\n",
    "        grad = np.multiply(lamda*w, logd - 1/k*grad)\n",
    "        etat = 1./(2 + lamda*t)\n",
    "        w1 = w - etat*grad\n",
    "        w = min(1, 1/(np.sqrt(lamda)*LA.norm(w1)))*w1\n",
    "        \n",
    "        if LA.norm(w - w_old) < Tolerance:\n",
    "            break\n",
    "    \n",
    "    if t < maxIter:\n",
    "        print 'W converged in ', str(t),' iterations.'\n",
    "    else:\n",
    "        print 'W not converged in ', str(t),' iterations.'\n",
    "     \n",
    "    \n",
    "    pred = X*w.H\n",
    "    propogatedPred = np.zeros(shape=pred.shape)\n",
    "    \n",
    "    for i in range(_pow):\n",
    "        propogatedPred = M*propogatedPred + pred\n",
    "    propogatedPred = M*propogatedPred + pred\n",
    "    propogatedPred = np.squeeze(np.asarray(np.multiply(alpha, propogatedPred.flatten())))\n",
    "        \n",
    "    b = np.mean(Y[trainIdx] - propogatedPred[trainIdx])\n",
    "    \n",
    "    \n",
    "    Tr = np.sum(np.sign((propogatedPred + b)[trainIdx]) == Y[trainIdx])\n",
    "    F = Ntr - Tr\n",
    "    TrainAccuracy = 100.*Tr/(Tr + F)\n",
    "    print 'Accuracy on Training set = ', str(TrainAccuracy),' %\\n'\n",
    "\n",
    "    model = {\n",
    "        'w': w,\n",
    "        'b': b\n",
    "    }\n",
    "\n",
    "    return model"
   ]
  },
  {
   "cell_type": "markdown",
   "metadata": {},
   "source": [
    "##### Snowball sampling"
   ]
  },
  {
   "cell_type": "code",
   "execution_count": 2,
   "metadata": {
    "collapsed": false
   },
   "outputs": [],
   "source": [
    "import numpy as np\n",
    "\n",
    "\"\"\" Snowball Sampling \n",
    "    INPUT:\n",
    "        graph:        adj. mat. of a graph\n",
    "        tr_fraction:  fraction of training nodes, default is 0.1\n",
    "    OUTOUT:\n",
    "        Train:        indices of training nodes\n",
    "\"\"\"\n",
    "def snowball_sampling(graph, tr_fraction=0.1):\n",
    "    TrFraction = tr_fraction\n",
    "\n",
    "    graph = graph + graph.T\n",
    "    graph[graph > 0] = 1\n",
    "\n",
    "    sparseGraph = graph.nonzero()\n",
    "\n",
    "    TrFraction = 1 - TrFraction\n",
    "    \n",
    "    Nodes = np.unique(sparseGraph)\n",
    "    n_Test = int(np.floor(len(Nodes)*TrFraction))\n",
    "\n",
    "    Test = np.zeros(n_Test)\n",
    "    Train = np.zeros(len(Nodes) - n_Test)\n",
    "\n",
    "    n_seed = int(np.ceil(n_Test*0.02))\n",
    "    Seed = np.random.choice(Nodes, n_seed, replace=False)\n",
    "    Selected = Seed\n",
    "\n",
    "    while len(Selected) < n_Test:\n",
    "        tmp_Neighbor = Nodes[np.squeeze(np.asarray(np.sum(graph[Seed], axis=0).ravel())).nonzero()[0]]\n",
    "        Neighbor = []\n",
    "        for n in tmp_Neighbor:\n",
    "            if n in Selected:\n",
    "                continue\n",
    "            Neighbor.append(n)\n",
    "\n",
    "        tmp_Selected = []\n",
    "        if len(Neighbor) > 0:\n",
    "            tmp_Selected = np.random.choice(np.array(Neighbor), int(len(Neighbor)*TrFraction/2), replace=False)\n",
    "\n",
    "        if len(tmp_Selected) == 0:\n",
    "            UnSelected = np.setdiff1d(np.array(range(graph.shape[0])), Selected, assume_unique=True)\n",
    "            Seed = np.random.choice(UnSelected, np.min([n_seed, len(UnSelected)]), replace=False)\n",
    "            Selected = np.unique(np.append(Selected, Seed))\n",
    "        else:\n",
    "            Selected = np.unique(np.append(Selected, tmp_Selected))\n",
    "            Seed = tmp_Selected\n",
    "    Test = Selected[0 : n_Test]\n",
    "    Train = np.setdiff1d(np.array(range(graph.shape[0])), Test, assume_unique=True)\n",
    "    return Train"
   ]
  },
  {
   "cell_type": "markdown",
   "metadata": {},
   "source": [
    "##### Test input: amazon dataset"
   ]
  },
  {
   "cell_type": "code",
   "execution_count": 3,
   "metadata": {
    "collapsed": false
   },
   "outputs": [],
   "source": [
    "import scipy.io\n",
    "\n",
    "mat = scipy.io.loadmat('Datasets/amazon.mat')\n",
    "\n",
    "A = mat['graph'].tocsr()\n",
    "\n",
    "truth = mat['label'].toarray()[:,0] # test on the first label\n",
    "truth[truth == 0] = -1\n",
    "tr = int(len(truth) * 0.1)\n",
    "\n",
    "#tr_idx = np.random.choice(len(truth), tr, replace=False) # random select\n",
    "tr_idx = snowball_sampling(A, tr_fraction=0.1) # snowball sampling\n",
    "\n",
    "y = np.zeros(len(truth))\n",
    "y[tr_idx] = truth[tr_idx]\n",
    "lamda = pow(2, -6)\n",
    "imax = 1000\n",
    "k = 1000\n",
    "\n",
    "options = {\n",
    "    'lamda': lamda,\n",
    "    'k': k,\n",
    "    'maxIter': imax\n",
    "}\n"
   ]
  },
  {
   "cell_type": "markdown",
   "metadata": {},
   "source": [
    "##### Test predict: training data"
   ]
  },
  {
   "cell_type": "code",
   "execution_count": null,
   "metadata": {
    "collapsed": false,
    "scrolled": false
   },
   "outputs": [
    {
     "name": "stdout",
     "output_type": "stream",
     "text": [
      "iteration #  0 / 1000\n",
      "iteration #  100 / 1000\n",
      "iteration #  200 / 1000\n",
      "iteration #  300 / 1000\n",
      "iteration #  400 / 1000\n"
     ]
    }
   ],
   "source": [
    "model = binaryTrain(A, y, options)\n",
    "print 'baseline accuracy = ', 100 - float(len((y == 1).nonzero()[0]))/(len(tr_idx))*100 # acc. of all -1"
   ]
  },
  {
   "cell_type": "markdown",
   "metadata": {},
   "source": [
    "##### Binary predict"
   ]
  },
  {
   "cell_type": "code",
   "execution_count": null,
   "metadata": {
    "collapsed": false
   },
   "outputs": [],
   "source": [
    "def binaryPredict(X, model):\n",
    "    N = X.shape[0]\n",
    "    \n",
    "    w = model['w']\n",
    "    b = model['b']\n",
    "    \n",
    "    degree = np.squeeze(np.asarray(np.sum(X, 1)))\n",
    "    logd = np.log2(2 + degree)\n",
    "    \n",
    "    invD = spdiags(1./degree, 0, N, N).tocsr()\n",
    "    \n",
    "    alpha = 1 - 1./np.log2(2 + degree)\n",
    "    ALPHA = spdiags(alpha, 0, N, N).tocsr()\n",
    "    COMPALPHA = spdiags(1 - alpha, 0, N, N).tocsr()\n",
    "    \n",
    "    M = COMPALPHA * invD * X\n",
    "    \n",
    "    _pow = 8\n",
    "    pred = X*w.H\n",
    "    propogatedPred = np.zeros(shape=pred.shape)\n",
    "        \n",
    "    for i in range(_pow):\n",
    "        propogatedPred = M*propogatedPred + pred\n",
    "    propogatedPred = M*propogatedPred + pred\n",
    "    propogatedPred = np.squeeze(np.asarray(np.multiply(alpha, propogatedPred.flatten())))\n",
    "\n",
    "    propogatedPred = propogatedPred + b\n",
    "    \n",
    "    return np.sign(propogatedPred)\n",
    "    "
   ]
  },
  {
   "cell_type": "code",
   "execution_count": null,
   "metadata": {
    "collapsed": false
   },
   "outputs": [],
   "source": [
    "bp_res = binaryPredict(A, model)\n",
    "print 'Pre = ', np.unique(bp_res, return_counts=True)\n",
    "print 'Act = ', np.unique(truth, return_counts=True)"
   ]
  }
 ],
 "metadata": {
  "anaconda-cloud": {},
  "kernelspec": {
   "display_name": "Python [default]",
   "language": "python",
   "name": "python2"
  },
  "language_info": {
   "codemirror_mode": {
    "name": "ipython",
    "version": 2
   },
   "file_extension": ".py",
   "mimetype": "text/x-python",
   "name": "python",
   "nbconvert_exporter": "python",
   "pygments_lexer": "ipython2",
   "version": "2.7.12"
  }
 },
 "nbformat": 4,
 "nbformat_minor": 1
}
